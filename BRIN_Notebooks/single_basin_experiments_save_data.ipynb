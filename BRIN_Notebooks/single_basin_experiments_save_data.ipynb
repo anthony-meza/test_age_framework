{
 "cells": [
  {
   "cell_type": "code",
   "execution_count": 1,
   "id": "67ae15a4",
   "metadata": {
    "scrolled": true
   },
   "outputs": [],
   "source": [
    "%matplotlib inline\n",
    "import xmitgcm\n",
    "import xgcm\n",
    "import xarray as xr\n",
    "import matplotlib.pyplot as plt\n",
    "from xlayers.core import layers_apply\n",
    "import numpy as np\n",
    "from MITgcmutils import jmd95\n",
    "import time as time\n",
    "import matplotlib.colors as colors\n",
    "from pathlib import Path\n",
    "import pandas as pd\n",
    "from scipy.interpolate import interp1d"
   ]
  },
  {
   "cell_type": "code",
   "execution_count": 5,
   "id": "52fc369b",
   "metadata": {
    "scrolled": false
   },
   "outputs": [],
   "source": [
    "#load mitgcm output\n",
    "#datadir='/Users/boerzhang/Desktop/ocean_project/restart_6x16_run_134308800_KGM_KGM2xonly_diag_testdiv_gTracer'\n",
    "#datadir='/Users/boerzhang/Desktop/ocean_project/restart_6x16_run_134308800_KGM_KGM2xonly_diag_testdiv_GMadv_nobvp'\n",
    "prefixes=['Stave','Ttave','vVeltave','uVeltave','wVeltave','DIAG_tracer_adv_diff','PTRtave01','GMflux','Tdiftave','GM_Kwz-T','divergence','GMRediTensor']\n",
    "#prefixes=['GMRediTensor', 'Tdiftave', 'GMflux', 'DIAG_tracer_adv_diff', 'wVeltave', 'Ttave', 'GM_Kwz-T', 'vVeltave', 'PTRtave01', 'Stave', 'uVeltave','La']\n",
    "prefixes= ['vVeltave', 'DIAG_tracer_adv_diff', 'GM_Kwz-T', 'PTRtave01', 'wVeltave', 'GMflux', 'Ttave', 'Stave', 'Tdiftave', 'GMRediTensor', 'uVeltave','LaVH1RHO','LaHs1RHO']\n",
    "datadirGM2x='/Users/anthonymeza/Documents/GitHub/test_age_framework/Single_basin_simulations/restart_6x16_run_134308800_KGM_KGM2xonly_diag_testdiv_gTracer_skewflux_modGMdiagnose'\n",
    "datadirctr='/Users/anthonymeza/Documents/GitHub/test_age_framework/Single_basin_simulations/control_6x16_run_98893440_diag_Jan12_50year_ModGMdiag'\n",
    "datadirkappa2x='/Users/anthonymeza/Documents/GitHub/test_age_framework/Single_basin_simulations/kappa2x_6x16_run_164090878_diag_Jan12_50year_ModGMdiag'\n",
    "datadirRedi2x='/Users/anthonymeza/Documents/GitHub/test_age_framework/Single_basin_simulations/Redi2x_6x16_run_135172800_diag_Jan12_50year_ModGMdiag'\n",
    "\n",
    "#iters=[134308848]\n",
    "iters='all'\n",
    "#prefixes=None\n",
    "dsGM2x=xmitgcm.open_mdsdataset(datadirGM2x,prefix=prefixes,iters=iters).astype('float64')\n",
    "dsctr=xmitgcm.open_mdsdataset(datadirctr,prefix=prefixes,iters=iters).astype('float64')\n",
    "dsRedi2x=xmitgcm.open_mdsdataset(datadirRedi2x,prefix=prefixes,iters=iters).astype('float64')\n",
    "dskappa2x=xmitgcm.open_mdsdataset(datadirkappa2x,prefix=prefixes,iters=iters).astype('float64')"
   ]
  },
  {
   "cell_type": "code",
   "execution_count": 6,
   "id": "56b8b16f",
   "metadata": {},
   "outputs": [],
   "source": [
    "dsctr.to_netcdf(\"../data/single_basin_ctrl.nc\", engine = \"netcdf4\")\n",
    "dsGM2x.to_netcdf(\"../data/single_basin_GM2X.nc\", engine = \"netcdf4\")\n",
    "dsRedi2x.to_netcdf(\"../data/single_basin_Redi2X.nc\", engine = \"netcdf4\")\n",
    "dskappa2x.to_netcdf(\"../data/single_basin_Kappa2X.nc\", engine = \"netcdf4\")"
   ]
  },
  {
   "cell_type": "code",
   "execution_count": 7,
   "id": "79d52f72",
   "metadata": {},
   "outputs": [],
   "source": [
    "comp = dict(zlib=True, complevel=5)\n",
    "encoding = {var: comp for var in dsctr.data_vars}\n",
    "dsctr.to_netcdf(\"../data/single_basin_ctrl_compressed.nc\", encoding=encoding, engine = \"netcdf4\")\n",
    "\n",
    "comp = dict(zlib=True, complevel=5)\n",
    "encoding = {var: comp for var in dsGM2x.data_vars}\n",
    "dsGM2x.to_netcdf(\"../data/single_basin_GM2X_compressed.nc\", encoding=encoding, engine = \"netcdf4\")\n",
    "\n",
    "comp = dict(zlib=True, complevel=5)\n",
    "encoding = {var: comp for var in dsRedi2x.data_vars}\n",
    "dsRedi2x.to_netcdf(\"../data/single_basin_Redi2X_compressed.nc\", encoding=encoding, engine = \"netcdf4\")\n",
    "\n",
    "comp = dict(zlib=True, complevel=5)\n",
    "encoding = {var: comp for var in dskappa2x.data_vars}\n",
    "dskappa2x.to_netcdf(\"../data/single_basin_Kappa2X_compressed.nc\", encoding=encoding, engine = \"netcdf4\")\n"
   ]
  },
  {
   "cell_type": "code",
   "execution_count": null,
   "id": "54fca852",
   "metadata": {},
   "outputs": [],
   "source": []
  }
 ],
 "metadata": {
  "kernelspec": {
   "display_name": "Python 3",
   "language": "python",
   "name": "python3"
  },
  "language_info": {
   "codemirror_mode": {
    "name": "ipython",
    "version": 3
   },
   "file_extension": ".py",
   "mimetype": "text/x-python",
   "name": "python",
   "nbconvert_exporter": "python",
   "pygments_lexer": "ipython3",
   "version": "3.11.9"
  },
  "varInspector": {
   "cols": {
    "lenName": 16,
    "lenType": 16,
    "lenVar": 40
   },
   "kernels_config": {
    "python": {
     "delete_cmd_postfix": "",
     "delete_cmd_prefix": "del ",
     "library": "var_list.py",
     "varRefreshCmd": "print(var_dic_list())"
    },
    "r": {
     "delete_cmd_postfix": ") ",
     "delete_cmd_prefix": "rm(",
     "library": "var_list.r",
     "varRefreshCmd": "cat(var_dic_list()) "
    }
   },
   "types_to_exclude": [
    "module",
    "function",
    "builtin_function_or_method",
    "instance",
    "_Feature"
   ],
   "window_display": false
  }
 },
 "nbformat": 4,
 "nbformat_minor": 5
}
